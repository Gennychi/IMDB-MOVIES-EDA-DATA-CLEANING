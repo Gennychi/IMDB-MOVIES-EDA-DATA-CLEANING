{
 "cells": [
  {
   "cell_type": "code",
   "execution_count": 1,
   "id": "f7f097e9",
   "metadata": {},
   "outputs": [],
   "source": [
    "#import our libraries\n",
    "import pandas as pd\n",
    "import seaborn as sns\n",
    "import numpy as np\n",
    "\n",
    "import matplotlib\n",
    "import matplotlib.pyplot as plt\n",
    "plt.style.use('ggplot')\n",
    "from matplotlib.pyplot import figure\n",
    "\n",
    "%matplotlib inline\n",
    "matplotlib.rcParams['figure.figsize'] =(12,8)\n",
    "\n",
    "#remove unecessary warnings\n",
    "import warnings\n",
    "warnings.filterwarnings(\"ignore\")"
   ]
  },
  {
   "cell_type": "code",
   "execution_count": 2,
   "id": "d4feeb39",
   "metadata": {},
   "outputs": [],
   "source": [
    "#read in our dataset\n",
    "imdb = pd.read_csv(r'C:\\Users\\HP-PC\\Desktop\\marketing\\iMDbTop250Movies.csv')"
   ]
  },
  {
   "cell_type": "code",
   "execution_count": 3,
   "id": "a661860d",
   "metadata": {},
   "outputs": [
    {
     "data": {
      "text/html": [
       "<div>\n",
       "<style scoped>\n",
       "    .dataframe tbody tr th:only-of-type {\n",
       "        vertical-align: middle;\n",
       "    }\n",
       "\n",
       "    .dataframe tbody tr th {\n",
       "        vertical-align: top;\n",
       "    }\n",
       "\n",
       "    .dataframe thead th {\n",
       "        text-align: right;\n",
       "    }\n",
       "</style>\n",
       "<table border=\"1\" class=\"dataframe\">\n",
       "  <thead>\n",
       "    <tr style=\"text-align: right;\">\n",
       "      <th></th>\n",
       "      <th>Title</th>\n",
       "      <th>year</th>\n",
       "      <th>Rating</th>\n",
       "      <th>Run Time</th>\n",
       "      <th>imdb_rating</th>\n",
       "      <th>Budget</th>\n",
       "      <th>Gross_worldwide</th>\n",
       "      <th>Director</th>\n",
       "      <th>Metascore</th>\n",
       "    </tr>\n",
       "  </thead>\n",
       "  <tbody>\n",
       "    <tr>\n",
       "      <th>0</th>\n",
       "      <td>On the Waterfront</td>\n",
       "      <td>1954</td>\n",
       "      <td>Approved</td>\n",
       "      <td>1h 48m</td>\n",
       "      <td>8.1</td>\n",
       "      <td>$910,000 (estimated)</td>\n",
       "      <td>NaN</td>\n",
       "      <td>Elia Kazan</td>\n",
       "      <td>91.0</td>\n",
       "    </tr>\n",
       "    <tr>\n",
       "      <th>1</th>\n",
       "      <td>My Father and My Son</td>\n",
       "      <td>2005</td>\n",
       "      <td>Not Rated</td>\n",
       "      <td>1h 52m</td>\n",
       "      <td>8.2</td>\n",
       "      <td>NaN</td>\n",
       "      <td>$18,612,999</td>\n",
       "      <td>Cagan Irmak</td>\n",
       "      <td>NaN</td>\n",
       "    </tr>\n",
       "    <tr>\n",
       "      <th>2</th>\n",
       "      <td>Avengers: Endgame</td>\n",
       "      <td>2019</td>\n",
       "      <td>PG-13</td>\n",
       "      <td>3h 1m</td>\n",
       "      <td>8.4</td>\n",
       "      <td>$356,000,000 (estimated)</td>\n",
       "      <td>$2,797,501,328</td>\n",
       "      <td>Anthony Russo</td>\n",
       "      <td>78.0</td>\n",
       "    </tr>\n",
       "    <tr>\n",
       "      <th>3</th>\n",
       "      <td>1917</td>\n",
       "      <td>2019</td>\n",
       "      <td>R</td>\n",
       "      <td>1h 59m</td>\n",
       "      <td>8.2</td>\n",
       "      <td>$95,000,000 (estimated)</td>\n",
       "      <td>$384,919,389</td>\n",
       "      <td>Sam Mendes</td>\n",
       "      <td>78.0</td>\n",
       "    </tr>\n",
       "    <tr>\n",
       "      <th>4</th>\n",
       "      <td>Snatch</td>\n",
       "      <td>2000</td>\n",
       "      <td>R</td>\n",
       "      <td>1h 42m</td>\n",
       "      <td>8.3</td>\n",
       "      <td>£6,000,000 (estimated)</td>\n",
       "      <td>$83,557,872</td>\n",
       "      <td>Guy Ritchie</td>\n",
       "      <td>55.0</td>\n",
       "    </tr>\n",
       "    <tr>\n",
       "      <th>5</th>\n",
       "      <td>Star Wars: Episode V - The Empire Strikes Back</td>\n",
       "      <td>1980</td>\n",
       "      <td>PG</td>\n",
       "      <td>2h 4m</td>\n",
       "      <td>8.7</td>\n",
       "      <td>$18,000,000 (estimated)</td>\n",
       "      <td>$538,375,067</td>\n",
       "      <td>Irvin Kershner</td>\n",
       "      <td>82.0</td>\n",
       "    </tr>\n",
       "    <tr>\n",
       "      <th>6</th>\n",
       "      <td>The Gold Rush</td>\n",
       "      <td>1925</td>\n",
       "      <td>Passed</td>\n",
       "      <td>1h 35m</td>\n",
       "      <td>8.2</td>\n",
       "      <td>$923,000 (estimated)</td>\n",
       "      <td>$26,975</td>\n",
       "      <td>Charles Chaplin</td>\n",
       "      <td>NaN</td>\n",
       "    </tr>\n",
       "    <tr>\n",
       "      <th>7</th>\n",
       "      <td>Life Is Beautiful</td>\n",
       "      <td>1997</td>\n",
       "      <td>PG-13</td>\n",
       "      <td>1h 56m</td>\n",
       "      <td>8.6</td>\n",
       "      <td>$20,000,000 (estimated)</td>\n",
       "      <td>$230,098,753</td>\n",
       "      <td>Roberto Benigni</td>\n",
       "      <td>59.0</td>\n",
       "    </tr>\n",
       "    <tr>\n",
       "      <th>8</th>\n",
       "      <td>The Shawshank Redemption</td>\n",
       "      <td>1994</td>\n",
       "      <td>R</td>\n",
       "      <td>2h 22m</td>\n",
       "      <td>9.3</td>\n",
       "      <td>$25,000,000 (estimated)</td>\n",
       "      <td>$28,884,504</td>\n",
       "      <td>Frank Darabont</td>\n",
       "      <td>81.0</td>\n",
       "    </tr>\n",
       "    <tr>\n",
       "      <th>9</th>\n",
       "      <td>Gone Girl</td>\n",
       "      <td>2014</td>\n",
       "      <td>R</td>\n",
       "      <td>2h 29m</td>\n",
       "      <td>8.1</td>\n",
       "      <td>$61,000,000 (estimated)</td>\n",
       "      <td>$369,330,363</td>\n",
       "      <td>David Fincher</td>\n",
       "      <td>79.0</td>\n",
       "    </tr>\n",
       "  </tbody>\n",
       "</table>\n",
       "</div>"
      ],
      "text/plain": [
       "                                            Title  year     Rating Run Time  \\\n",
       "0                               On the Waterfront  1954   Approved   1h 48m   \n",
       "1                            My Father and My Son  2005  Not Rated   1h 52m   \n",
       "2                               Avengers: Endgame  2019      PG-13    3h 1m   \n",
       "3                                            1917  2019          R   1h 59m   \n",
       "4                                          Snatch  2000          R   1h 42m   \n",
       "5  Star Wars: Episode V - The Empire Strikes Back  1980         PG    2h 4m   \n",
       "6                                   The Gold Rush  1925     Passed   1h 35m   \n",
       "7                               Life Is Beautiful  1997      PG-13   1h 56m   \n",
       "8                        The Shawshank Redemption  1994          R   2h 22m   \n",
       "9                                       Gone Girl  2014          R   2h 29m   \n",
       "\n",
       "   imdb_rating                    Budget Gross_worldwide         Director  \\\n",
       "0          8.1      $910,000 (estimated)             NaN       Elia Kazan   \n",
       "1          8.2                       NaN     $18,612,999      Cagan Irmak   \n",
       "2          8.4  $356,000,000 (estimated)  $2,797,501,328    Anthony Russo   \n",
       "3          8.2   $95,000,000 (estimated)    $384,919,389       Sam Mendes   \n",
       "4          8.3    £6,000,000 (estimated)     $83,557,872      Guy Ritchie   \n",
       "5          8.7   $18,000,000 (estimated)    $538,375,067   Irvin Kershner   \n",
       "6          8.2      $923,000 (estimated)         $26,975  Charles Chaplin   \n",
       "7          8.6   $20,000,000 (estimated)    $230,098,753  Roberto Benigni   \n",
       "8          9.3   $25,000,000 (estimated)     $28,884,504   Frank Darabont   \n",
       "9          8.1   $61,000,000 (estimated)    $369,330,363    David Fincher   \n",
       "\n",
       "   Metascore  \n",
       "0       91.0  \n",
       "1        NaN  \n",
       "2       78.0  \n",
       "3       78.0  \n",
       "4       55.0  \n",
       "5       82.0  \n",
       "6        NaN  \n",
       "7       59.0  \n",
       "8       81.0  \n",
       "9       79.0  "
      ]
     },
     "execution_count": 3,
     "metadata": {},
     "output_type": "execute_result"
    }
   ],
   "source": [
    "#get first ten rows of our dataset\n",
    "imdb.head(10)"
   ]
  },
  {
   "cell_type": "code",
   "execution_count": 4,
   "id": "31959499",
   "metadata": {},
   "outputs": [
    {
     "name": "stdout",
     "output_type": "stream",
     "text": [
      "Title - 0.0%\n",
      "year - 0.0%\n",
      "Rating - 0.004%\n",
      "Run Time - 0.004%\n",
      "imdb_rating - 0.0%\n",
      "Budget - 0.088%\n",
      "Gross_worldwide - 0.028%\n",
      "Director - 0.0%\n",
      "Metascore - 0.088%\n"
     ]
    }
   ],
   "source": [
    "#clean! clean !! clean!!!\n",
    "#check for missing data in %\n",
    "\n",
    "for col in imdb.columns:\n",
    "        pct_missing = np.mean(imdb[col].isnull())\n",
    "        print('{} - {}%'.format(col, pct_missing))\n"
   ]
  },
  {
   "cell_type": "code",
   "execution_count": 5,
   "id": "64a5a6be",
   "metadata": {},
   "outputs": [
    {
     "data": {
      "text/html": [
       "<div>\n",
       "<style scoped>\n",
       "    .dataframe tbody tr th:only-of-type {\n",
       "        vertical-align: middle;\n",
       "    }\n",
       "\n",
       "    .dataframe tbody tr th {\n",
       "        vertical-align: top;\n",
       "    }\n",
       "\n",
       "    .dataframe thead th {\n",
       "        text-align: right;\n",
       "    }\n",
       "</style>\n",
       "<table border=\"1\" class=\"dataframe\">\n",
       "  <thead>\n",
       "    <tr style=\"text-align: right;\">\n",
       "      <th></th>\n",
       "      <th>Title</th>\n",
       "      <th>year</th>\n",
       "      <th>Rating</th>\n",
       "      <th>Run Time</th>\n",
       "      <th>imdb_rating</th>\n",
       "      <th>Budget</th>\n",
       "      <th>Gross_worldwide</th>\n",
       "      <th>Director</th>\n",
       "      <th>Metascore</th>\n",
       "    </tr>\n",
       "  </thead>\n",
       "  <tbody>\n",
       "    <tr>\n",
       "      <th>0</th>\n",
       "      <td>False</td>\n",
       "      <td>False</td>\n",
       "      <td>False</td>\n",
       "      <td>False</td>\n",
       "      <td>False</td>\n",
       "      <td>False</td>\n",
       "      <td>True</td>\n",
       "      <td>False</td>\n",
       "      <td>False</td>\n",
       "    </tr>\n",
       "    <tr>\n",
       "      <th>1</th>\n",
       "      <td>False</td>\n",
       "      <td>False</td>\n",
       "      <td>False</td>\n",
       "      <td>False</td>\n",
       "      <td>False</td>\n",
       "      <td>True</td>\n",
       "      <td>False</td>\n",
       "      <td>False</td>\n",
       "      <td>True</td>\n",
       "    </tr>\n",
       "    <tr>\n",
       "      <th>2</th>\n",
       "      <td>False</td>\n",
       "      <td>False</td>\n",
       "      <td>False</td>\n",
       "      <td>False</td>\n",
       "      <td>False</td>\n",
       "      <td>False</td>\n",
       "      <td>False</td>\n",
       "      <td>False</td>\n",
       "      <td>False</td>\n",
       "    </tr>\n",
       "    <tr>\n",
       "      <th>3</th>\n",
       "      <td>False</td>\n",
       "      <td>False</td>\n",
       "      <td>False</td>\n",
       "      <td>False</td>\n",
       "      <td>False</td>\n",
       "      <td>False</td>\n",
       "      <td>False</td>\n",
       "      <td>False</td>\n",
       "      <td>False</td>\n",
       "    </tr>\n",
       "    <tr>\n",
       "      <th>4</th>\n",
       "      <td>False</td>\n",
       "      <td>False</td>\n",
       "      <td>False</td>\n",
       "      <td>False</td>\n",
       "      <td>False</td>\n",
       "      <td>False</td>\n",
       "      <td>False</td>\n",
       "      <td>False</td>\n",
       "      <td>False</td>\n",
       "    </tr>\n",
       "  </tbody>\n",
       "</table>\n",
       "</div>"
      ],
      "text/plain": [
       "   Title   year  Rating  Run Time  imdb_rating  Budget  Gross_worldwide  \\\n",
       "0  False  False   False     False        False   False             True   \n",
       "1  False  False   False     False        False    True            False   \n",
       "2  False  False   False     False        False   False            False   \n",
       "3  False  False   False     False        False   False            False   \n",
       "4  False  False   False     False        False   False            False   \n",
       "\n",
       "   Director  Metascore  \n",
       "0     False      False  \n",
       "1     False       True  \n",
       "2     False      False  \n",
       "3     False      False  \n",
       "4     False      False  "
      ]
     },
     "execution_count": 5,
     "metadata": {},
     "output_type": "execute_result"
    }
   ],
   "source": [
    "#get the data shape of the missing values using booleans. \n",
    "imdb_missing = imdb.isna()\n",
    "imdb_missing.head()"
   ]
  },
  {
   "cell_type": "code",
   "execution_count": 6,
   "id": "1d66931a",
   "metadata": {},
   "outputs": [
    {
     "data": {
      "text/plain": [
       "Title               0\n",
       "year                0\n",
       "Rating              1\n",
       "Run Time            1\n",
       "imdb_rating         0\n",
       "Budget             22\n",
       "Gross_worldwide     7\n",
       "Director            0\n",
       "Metascore          22\n",
       "dtype: int64"
      ]
     },
     "execution_count": 6,
     "metadata": {},
     "output_type": "execute_result"
    }
   ],
   "source": [
    "#counting the number of True's and False\n",
    "imdb_missing.sum()"
   ]
  },
  {
   "cell_type": "code",
   "execution_count": 7,
   "id": "12ce58af",
   "metadata": {},
   "outputs": [],
   "source": [
    "df = imdb.copy()"
   ]
  },
  {
   "cell_type": "markdown",
   "id": "946a65a1",
   "metadata": {},
   "source": [
    "since our dataset has neligible number of missing values, with the budget and Metascore column having the highest number(22), we can go ahead and drop them."
   ]
  },
  {
   "cell_type": "code",
   "execution_count": 8,
   "id": "ff106fc2",
   "metadata": {},
   "outputs": [
    {
     "data": {
      "text/plain": [
       "(250, 9)"
      ]
     },
     "execution_count": 8,
     "metadata": {},
     "output_type": "execute_result"
    }
   ],
   "source": [
    "#But first let's check the shape of our dataset\n",
    "df.shape"
   ]
  },
  {
   "cell_type": "markdown",
   "id": "0c007340",
   "metadata": {},
   "source": [
    "our data has 250 rows and 9 columns"
   ]
  },
  {
   "cell_type": "code",
   "execution_count": 9,
   "id": "dbdd009c",
   "metadata": {},
   "outputs": [
    {
     "data": {
      "text/html": [
       "<div>\n",
       "<style scoped>\n",
       "    .dataframe tbody tr th:only-of-type {\n",
       "        vertical-align: middle;\n",
       "    }\n",
       "\n",
       "    .dataframe tbody tr th {\n",
       "        vertical-align: top;\n",
       "    }\n",
       "\n",
       "    .dataframe thead th {\n",
       "        text-align: right;\n",
       "    }\n",
       "</style>\n",
       "<table border=\"1\" class=\"dataframe\">\n",
       "  <thead>\n",
       "    <tr style=\"text-align: right;\">\n",
       "      <th></th>\n",
       "      <th>Title</th>\n",
       "      <th>year</th>\n",
       "      <th>Rating</th>\n",
       "      <th>Run Time</th>\n",
       "      <th>imdb_rating</th>\n",
       "      <th>Budget</th>\n",
       "      <th>Gross_worldwide</th>\n",
       "      <th>Director</th>\n",
       "      <th>Metascore</th>\n",
       "    </tr>\n",
       "  </thead>\n",
       "  <tbody>\n",
       "    <tr>\n",
       "      <th>2</th>\n",
       "      <td>Avengers: Endgame</td>\n",
       "      <td>2019</td>\n",
       "      <td>PG-13</td>\n",
       "      <td>3h 1m</td>\n",
       "      <td>8.4</td>\n",
       "      <td>$356,000,000 (estimated)</td>\n",
       "      <td>$2,797,501,328</td>\n",
       "      <td>Anthony Russo</td>\n",
       "      <td>78.0</td>\n",
       "    </tr>\n",
       "    <tr>\n",
       "      <th>3</th>\n",
       "      <td>1917</td>\n",
       "      <td>2019</td>\n",
       "      <td>R</td>\n",
       "      <td>1h 59m</td>\n",
       "      <td>8.2</td>\n",
       "      <td>$95,000,000 (estimated)</td>\n",
       "      <td>$384,919,389</td>\n",
       "      <td>Sam Mendes</td>\n",
       "      <td>78.0</td>\n",
       "    </tr>\n",
       "    <tr>\n",
       "      <th>4</th>\n",
       "      <td>Snatch</td>\n",
       "      <td>2000</td>\n",
       "      <td>R</td>\n",
       "      <td>1h 42m</td>\n",
       "      <td>8.3</td>\n",
       "      <td>£6,000,000 (estimated)</td>\n",
       "      <td>$83,557,872</td>\n",
       "      <td>Guy Ritchie</td>\n",
       "      <td>55.0</td>\n",
       "    </tr>\n",
       "    <tr>\n",
       "      <th>5</th>\n",
       "      <td>Star Wars: Episode V - The Empire Strikes Back</td>\n",
       "      <td>1980</td>\n",
       "      <td>PG</td>\n",
       "      <td>2h 4m</td>\n",
       "      <td>8.7</td>\n",
       "      <td>$18,000,000 (estimated)</td>\n",
       "      <td>$538,375,067</td>\n",
       "      <td>Irvin Kershner</td>\n",
       "      <td>82.0</td>\n",
       "    </tr>\n",
       "    <tr>\n",
       "      <th>7</th>\n",
       "      <td>Life Is Beautiful</td>\n",
       "      <td>1997</td>\n",
       "      <td>PG-13</td>\n",
       "      <td>1h 56m</td>\n",
       "      <td>8.6</td>\n",
       "      <td>$20,000,000 (estimated)</td>\n",
       "      <td>$230,098,753</td>\n",
       "      <td>Roberto Benigni</td>\n",
       "      <td>59.0</td>\n",
       "    </tr>\n",
       "  </tbody>\n",
       "</table>\n",
       "</div>"
      ],
      "text/plain": [
       "                                            Title  year Rating Run Time  \\\n",
       "2                               Avengers: Endgame  2019  PG-13    3h 1m   \n",
       "3                                            1917  2019      R   1h 59m   \n",
       "4                                          Snatch  2000      R   1h 42m   \n",
       "5  Star Wars: Episode V - The Empire Strikes Back  1980     PG    2h 4m   \n",
       "7                               Life Is Beautiful  1997  PG-13   1h 56m   \n",
       "\n",
       "   imdb_rating                    Budget Gross_worldwide         Director  \\\n",
       "2          8.4  $356,000,000 (estimated)  $2,797,501,328    Anthony Russo   \n",
       "3          8.2   $95,000,000 (estimated)    $384,919,389       Sam Mendes   \n",
       "4          8.3    £6,000,000 (estimated)     $83,557,872      Guy Ritchie   \n",
       "5          8.7   $18,000,000 (estimated)    $538,375,067   Irvin Kershner   \n",
       "7          8.6   $20,000,000 (estimated)    $230,098,753  Roberto Benigni   \n",
       "\n",
       "   Metascore  \n",
       "2       78.0  \n",
       "3       78.0  \n",
       "4       55.0  \n",
       "5       82.0  \n",
       "7       59.0  "
      ]
     },
     "execution_count": 9,
     "metadata": {},
     "output_type": "execute_result"
    }
   ],
   "source": [
    "#if any NA is present, drop the rows or column\n",
    "nm = df.dropna(how = 'any')\n",
    "nm.shape\n",
    "nm.head()"
   ]
  },
  {
   "cell_type": "code",
   "execution_count": 10,
   "id": "b00c2a70",
   "metadata": {},
   "outputs": [],
   "source": [
    "imdb3 = nm.copy()"
   ]
  },
  {
   "cell_type": "code",
   "execution_count": 11,
   "id": "a70262aa",
   "metadata": {},
   "outputs": [
    {
     "data": {
      "text/plain": [
       "Title               object\n",
       "year                 int64\n",
       "Rating              object\n",
       "Run Time            object\n",
       "imdb_rating        float64\n",
       "Budget              object\n",
       "Gross_worldwide     object\n",
       "Director            object\n",
       "Metascore          float64\n",
       "dtype: object"
      ]
     },
     "execution_count": 11,
     "metadata": {},
     "output_type": "execute_result"
    }
   ],
   "source": [
    "imdb3.dtypes"
   ]
  },
  {
   "cell_type": "markdown",
   "id": "e54129de",
   "metadata": {},
   "source": [
    "Most of our columns are strings except for the 'Year', 'imdb_rating' & 'Metascore' columns. So we have to convert the Gross_worldwide , Budget and Run time columns into integers since it is filled with numbers"
   ]
  },
  {
   "cell_type": "code",
   "execution_count": 12,
   "id": "4a4030e4",
   "metadata": {},
   "outputs": [],
   "source": [
    "#Remove the '(estimated)' from the budget column.\n",
    "#first, we remove the non-regular expressions()\n",
    "imdb3['Budget'] = imdb3['Budget'].str.replace(r'\\W', \"\")\n",
    "imdb3['Budget']\n",
    "\n",
    "#next, we remove the string \"estimated\" appended on the figures\n",
    "imdb3['Budget'] = imdb3['Budget'].str.replace(\"estimated\", \"\")\n",
    "imdb3['Budget'] = imdb3['Budget'].str.replace(\",\",\"\")\n",
    "\n",
    "\n",
    "#remove the dollar sign($) in the Gross_worldwide column\n",
    "imdb3['Gross_worldwide'] = imdb3['Gross_worldwide'].str.replace(\"$\", \"\")\n",
    "\n",
    "#remove the commas in Gross_worldwide column\n",
    "imdb3['Gross_worldwide'] = imdb3['Gross_worldwide'].str.replace(\",\",\"\")"
   ]
  },
  {
   "cell_type": "code",
   "execution_count": 13,
   "id": "910f281b",
   "metadata": {},
   "outputs": [],
   "source": [
    "#convert  the values that are in another currency in the budget columns to dollars and input them\n",
    "imdb3.loc[169] =['Metropolis','1927', 'Not Rated', '2h 33m', '8.3','14500000', '1349711','Fritz Lang', '98' ]\n",
    "imdb3.loc[238] =['Léon: The Professional','1994','R','1h 50m', '8.5','16000000','19552639','Luc Besson','64']\n",
    "imdb3.loc[46] =['Blade Runner', '1982','R','1h 57m', '8.1','30000000','41722424', 'Ridely Scott','84' ]\n",
    "imdb3.loc[171]=['City of God','2002','R','2H 10m','8.6','3300000','30680793','Fernando Meirelles','  79']"
   ]
  },
  {
   "cell_type": "code",
   "execution_count": 14,
   "id": "f816c9b3",
   "metadata": {},
   "outputs": [],
   "source": [
    "#convert Budget and Gross_worldwide  from strings to int and Metascore from float to int\n",
    "imdb3['Budget'] = imdb3['Budget'].astype('object').astype('int64')\n",
    "imdb3['Gross_worldwide'] = imdb3['Gross_worldwide'].astype('object').astype('int64')\n",
    "imdb3['Metascore'] = imdb3['Metascore'].astype('float').astype('int64')"
   ]
  },
  {
   "cell_type": "code",
   "execution_count": 15,
   "id": "65541310",
   "metadata": {},
   "outputs": [
    {
     "data": {
      "text/plain": [
       "Title              object\n",
       "year               object\n",
       "Rating             object\n",
       "Run Time           object\n",
       "imdb_rating        object\n",
       "Budget              int64\n",
       "Gross_worldwide     int64\n",
       "Director           object\n",
       "Metascore           int64\n",
       "dtype: object"
      ]
     },
     "execution_count": 15,
     "metadata": {},
     "output_type": "execute_result"
    }
   ],
   "source": [
    "imdb3.dtypes"
   ]
  },
  {
   "cell_type": "code",
   "execution_count": 16,
   "id": "ab7fb54f",
   "metadata": {},
   "outputs": [
    {
     "data": {
      "text/html": [
       "<div>\n",
       "<style scoped>\n",
       "    .dataframe tbody tr th:only-of-type {\n",
       "        vertical-align: middle;\n",
       "    }\n",
       "\n",
       "    .dataframe tbody tr th {\n",
       "        vertical-align: top;\n",
       "    }\n",
       "\n",
       "    .dataframe thead th {\n",
       "        text-align: right;\n",
       "    }\n",
       "</style>\n",
       "<table border=\"1\" class=\"dataframe\">\n",
       "  <thead>\n",
       "    <tr style=\"text-align: right;\">\n",
       "      <th></th>\n",
       "      <th>Title</th>\n",
       "      <th>year</th>\n",
       "      <th>Rating</th>\n",
       "      <th>Run Time</th>\n",
       "      <th>imdb_rating</th>\n",
       "      <th>Budget</th>\n",
       "      <th>Gross_worldwide</th>\n",
       "      <th>Director</th>\n",
       "      <th>Metascore</th>\n",
       "    </tr>\n",
       "  </thead>\n",
       "  <tbody>\n",
       "    <tr>\n",
       "      <th>2</th>\n",
       "      <td>Avengers: Endgame</td>\n",
       "      <td>2019</td>\n",
       "      <td>PG-13</td>\n",
       "      <td>3h 1m</td>\n",
       "      <td>8.4</td>\n",
       "      <td>356000000</td>\n",
       "      <td>2797501328</td>\n",
       "      <td>Anthony Russo</td>\n",
       "      <td>78</td>\n",
       "    </tr>\n",
       "    <tr>\n",
       "      <th>3</th>\n",
       "      <td>1917</td>\n",
       "      <td>2019</td>\n",
       "      <td>R</td>\n",
       "      <td>1h 59m</td>\n",
       "      <td>8.2</td>\n",
       "      <td>95000000</td>\n",
       "      <td>384919389</td>\n",
       "      <td>Sam Mendes</td>\n",
       "      <td>78</td>\n",
       "    </tr>\n",
       "    <tr>\n",
       "      <th>4</th>\n",
       "      <td>Snatch</td>\n",
       "      <td>2000</td>\n",
       "      <td>R</td>\n",
       "      <td>1h 42m</td>\n",
       "      <td>8.3</td>\n",
       "      <td>6000000</td>\n",
       "      <td>83557872</td>\n",
       "      <td>Guy Ritchie</td>\n",
       "      <td>55</td>\n",
       "    </tr>\n",
       "    <tr>\n",
       "      <th>5</th>\n",
       "      <td>Star Wars: Episode V - The Empire Strikes Back</td>\n",
       "      <td>1980</td>\n",
       "      <td>PG</td>\n",
       "      <td>2h 4m</td>\n",
       "      <td>8.7</td>\n",
       "      <td>18000000</td>\n",
       "      <td>538375067</td>\n",
       "      <td>Irvin Kershner</td>\n",
       "      <td>82</td>\n",
       "    </tr>\n",
       "    <tr>\n",
       "      <th>7</th>\n",
       "      <td>Life Is Beautiful</td>\n",
       "      <td>1997</td>\n",
       "      <td>PG-13</td>\n",
       "      <td>1h 56m</td>\n",
       "      <td>8.6</td>\n",
       "      <td>20000000</td>\n",
       "      <td>230098753</td>\n",
       "      <td>Roberto Benigni</td>\n",
       "      <td>59</td>\n",
       "    </tr>\n",
       "  </tbody>\n",
       "</table>\n",
       "</div>"
      ],
      "text/plain": [
       "                                            Title  year Rating Run Time  \\\n",
       "2                               Avengers: Endgame  2019  PG-13    3h 1m   \n",
       "3                                            1917  2019      R   1h 59m   \n",
       "4                                          Snatch  2000      R   1h 42m   \n",
       "5  Star Wars: Episode V - The Empire Strikes Back  1980     PG    2h 4m   \n",
       "7                               Life Is Beautiful  1997  PG-13   1h 56m   \n",
       "\n",
       "  imdb_rating     Budget  Gross_worldwide         Director  Metascore  \n",
       "2         8.4  356000000       2797501328    Anthony Russo         78  \n",
       "3         8.2   95000000        384919389       Sam Mendes         78  \n",
       "4         8.3    6000000         83557872      Guy Ritchie         55  \n",
       "5         8.7   18000000        538375067   Irvin Kershner         82  \n",
       "7         8.6   20000000        230098753  Roberto Benigni         59  "
      ]
     },
     "execution_count": 16,
     "metadata": {},
     "output_type": "execute_result"
    }
   ],
   "source": [
    "imdb3.head()"
   ]
  },
  {
   "cell_type": "code",
   "execution_count": 17,
   "id": "1607429d",
   "metadata": {},
   "outputs": [],
   "source": [
    "imdb6 =imdb3.copy()"
   ]
  },
  {
   "cell_type": "code",
   "execution_count": 18,
   "id": "a2683b9d",
   "metadata": {},
   "outputs": [
    {
     "data": {
      "text/plain": [
       "Title              object\n",
       "year               object\n",
       "Rating             object\n",
       "Run Time           object\n",
       "imdb_rating        object\n",
       "Budget              int64\n",
       "Gross_worldwide     int64\n",
       "Director           object\n",
       "Metascore           int64\n",
       "dtype: object"
      ]
     },
     "execution_count": 18,
     "metadata": {},
     "output_type": "execute_result"
    }
   ],
   "source": [
    "imdb6.dtypes"
   ]
  },
  {
   "cell_type": "code",
   "execution_count": 19,
   "id": "fd740894",
   "metadata": {
    "scrolled": false
   },
   "outputs": [],
   "source": [
    "#split the Run Time column into hours and min\n",
    "imdb6[[\"Hour\", \"Min\"]] = imdb6[\"Run Time\"].str.split(\"h\", n=1, expand=True)\n",
    "\n",
    "\n"
   ]
  },
  {
   "cell_type": "code",
   "execution_count": 20,
   "id": "2247ef1d",
   "metadata": {},
   "outputs": [],
   "source": [
    "# clean the hour by changing the values in row 171\n",
    "imdb6.loc[171]=['City of God','2002','R','2H 10m','8.6','3300000','30680793','Fernando Meirelles','79',' 2','10m']\n"
   ]
  },
  {
   "cell_type": "code",
   "execution_count": 21,
   "id": "4746c1d9",
   "metadata": {},
   "outputs": [],
   "source": [
    "#Convert data types to int\n",
    "imdb6['Hour'] = imdb6['Hour'].astype('object').astype('int64')\n",
    "imdb6['Budget'] = imdb6['Budget'].astype('object').astype('int64')\n",
    "imdb6['Gross_worldwide'] = imdb6['Gross_worldwide'].astype('object').astype('int64')\n",
    "imdb6['imdb_rating'] = imdb6['imdb_rating'].astype('object').astype('float')\n",
    "imdb6['imdb_rating']=imdb6['imdb_rating'].astype('float').astype('int64')\n",
    "imdb6['Metascore'] = imdb6['Metascore'].astype('object').astype('int64')\n",
    "imdb6['year']=imdb6['year'].astype('object').astype('int64')\n"
   ]
  },
  {
   "cell_type": "code",
   "execution_count": 22,
   "id": "63acb9b7",
   "metadata": {},
   "outputs": [],
   "source": [
    "#remove the 'm' in Min column\n",
    "imdb6['Min']=imdb6['Min'].str.replace(\"m\",\"\")"
   ]
  },
  {
   "cell_type": "code",
   "execution_count": 23,
   "id": "07229a3a",
   "metadata": {},
   "outputs": [
    {
     "data": {
      "text/plain": [
       "Title              object\n",
       "year                int64\n",
       "Rating             object\n",
       "Run Time           object\n",
       "imdb_rating         int64\n",
       "Budget              int64\n",
       "Gross_worldwide     int64\n",
       "Director           object\n",
       "Metascore           int64\n",
       "Hour                int64\n",
       "Min                object\n",
       "dtype: object"
      ]
     },
     "execution_count": 23,
     "metadata": {},
     "output_type": "execute_result"
    }
   ],
   "source": [
    "imdb_new = imdb6\n",
    "imdb_new.head()\n",
    "imdb_new.dtypes"
   ]
  },
  {
   "cell_type": "code",
   "execution_count": 24,
   "id": "f5466f5b",
   "metadata": {},
   "outputs": [],
   "source": [
    "#save in csv to continue further cleaning in excel\n",
    "to_csv = imdb_new.to_csv(r'C:\\Users\\HP-PC\\Desktop\\imdb.csv',index = False)"
   ]
  },
  {
   "cell_type": "markdown",
   "id": "2aee8e01",
   "metadata": {},
   "source": [
    "In Excel, i will convert the Hours column to min by Multiplying by 60 and add the result to the Min to get my Run time in Minutes. "
   ]
  },
  {
   "cell_type": "code",
   "execution_count": null,
   "id": "aa99727c",
   "metadata": {},
   "outputs": [],
   "source": []
  }
 ],
 "metadata": {
  "kernelspec": {
   "display_name": "Python 3 (ipykernel)",
   "language": "python",
   "name": "python3"
  },
  "language_info": {
   "codemirror_mode": {
    "name": "ipython",
    "version": 3
   },
   "file_extension": ".py",
   "mimetype": "text/x-python",
   "name": "python",
   "nbconvert_exporter": "python",
   "pygments_lexer": "ipython3",
   "version": "3.9.12"
  }
 },
 "nbformat": 4,
 "nbformat_minor": 5
}
